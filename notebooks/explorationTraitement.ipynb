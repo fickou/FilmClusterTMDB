{
 "cells": [
  {
   "cell_type": "markdown",
   "id": "f53cf19c",
   "metadata": {},
   "source": [
    "1. Importation des librairies et du dataset"
   ]
  },
  {
   "cell_type": "code",
   "execution_count": 10,
   "id": "97cc3d9f",
   "metadata": {},
   "outputs": [],
   "source": [
    "import pandas as pd\n",
    "import numpy as np\n",
    "import matplotlib.pyplot as plt\n",
    "import seaborn as sns\n",
    "import ast\n",
    "from sklearn.feature_extraction.text import TfidfVectorizer\n"
   ]
  },
  {
   "cell_type": "markdown",
   "id": "5a5d58d1",
   "metadata": {},
   "source": [
    "2. Chargement  des données"
   ]
  },
  {
   "cell_type": "code",
   "execution_count": 11,
   "id": "9a815310",
   "metadata": {},
   "outputs": [],
   "source": [
    "df = pd.read_csv(\"../donnees/TMDB_5000_movies.csv\")\n"
   ]
  },
  {
   "cell_type": "code",
   "execution_count": 12,
   "id": "d9bb4e37",
   "metadata": {},
   "outputs": [],
   "source": [
    "columns = df.columns.tolist()"
   ]
  },
  {
   "cell_type": "code",
   "execution_count": 14,
   "id": "044f6105",
   "metadata": {},
   "outputs": [
    {
     "data": {
      "text/plain": [
       "['budget',\n",
       " 'genres',\n",
       " 'homepage',\n",
       " 'id',\n",
       " 'keywords',\n",
       " 'original_language',\n",
       " 'original_title',\n",
       " 'overview',\n",
       " 'popularity',\n",
       " 'production_companies',\n",
       " 'production_countries',\n",
       " 'release_date',\n",
       " 'revenue',\n",
       " 'runtime',\n",
       " 'spoken_languages',\n",
       " 'status',\n",
       " 'tagline',\n",
       " 'title',\n",
       " 'vote_average',\n",
       " 'vote_count']"
      ]
     },
     "execution_count": 14,
     "metadata": {},
     "output_type": "execute_result"
    }
   ],
   "source": [
    "columns"
   ]
  },
  {
   "cell_type": "code",
   "execution_count": 15,
   "id": "4f292104",
   "metadata": {},
   "outputs": [
    {
     "data": {
      "text/plain": [
       "(4803, 20)"
      ]
     },
     "execution_count": 15,
     "metadata": {},
     "output_type": "execute_result"
    }
   ],
   "source": [
    "#nombre de lignes et de colonnes\n",
    "shape = df.shape\n",
    "shape\n"
   ]
  },
  {
   "cell_type": "markdown",
   "id": "59fa0557",
   "metadata": {},
   "source": [
    "Le nombre de langue dans le dataset"
   ]
  },
  {
   "cell_type": "code",
   "execution_count": 16,
   "id": "7377dd94",
   "metadata": {},
   "outputs": [
    {
     "name": "stdout",
     "output_type": "stream",
     "text": [
      "Langues distinctes dans original_language : ['en' 'ja' 'fr' 'zh' 'es' 'de' 'hi' 'ru' 'ko' 'te' 'cn' 'it' 'nl' 'ta'\n",
      " 'sv' 'th' 'da' 'xx' 'hu' 'cs' 'pt' 'is' 'tr' 'nb' 'af' 'pl' 'he' 'ar'\n",
      " 'vi' 'ky' 'id' 'ro' 'fa' 'no' 'sl' 'ps' 'el']\n",
      "Nombre de langues distinctes dans original_language : 37\n"
     ]
    }
   ],
   "source": [
    "# Langues distinctes dans original_language\n",
    "langues_originales = df['original_language'].unique()\n",
    "print(\"Langues distinctes dans original_language :\", langues_originales)\n",
    "nb_langues = df['original_language'].nunique()\n",
    "print(f\"Nombre de langues distinctes dans original_language : {nb_langues}\")\n",
    "\n"
   ]
  },
  {
   "cell_type": "markdown",
   "id": "f33694a1",
   "metadata": {},
   "source": [
    "Analyse exploratoire du dataset TMDB"
   ]
  },
  {
   "cell_type": "code",
   "execution_count": 17,
   "id": "7fac64ac",
   "metadata": {},
   "outputs": [
    {
     "name": "stdout",
     "output_type": "stream",
     "text": [
      "Nombre de films : 4803\n",
      "<class 'pandas.core.frame.DataFrame'>\n",
      "RangeIndex: 4803 entries, 0 to 4802\n",
      "Data columns (total 20 columns):\n",
      " #   Column                Non-Null Count  Dtype  \n",
      "---  ------                --------------  -----  \n",
      " 0   budget                4803 non-null   int64  \n",
      " 1   genres                4803 non-null   object \n",
      " 2   homepage              1712 non-null   object \n",
      " 3   id                    4803 non-null   int64  \n",
      " 4   keywords              4803 non-null   object \n",
      " 5   original_language     4803 non-null   object \n",
      " 6   original_title        4803 non-null   object \n",
      " 7   overview              4800 non-null   object \n",
      " 8   popularity            4803 non-null   float64\n",
      " 9   production_companies  4803 non-null   object \n",
      " 10  production_countries  4803 non-null   object \n",
      " 11  release_date          4802 non-null   object \n",
      " 12  revenue               4803 non-null   int64  \n",
      " 13  runtime               4801 non-null   float64\n",
      " 14  spoken_languages      4803 non-null   object \n",
      " 15  status                4803 non-null   object \n",
      " 16  tagline               3959 non-null   object \n",
      " 17  title                 4803 non-null   object \n",
      " 18  vote_average          4803 non-null   float64\n",
      " 19  vote_count            4803 non-null   int64  \n",
      "dtypes: float64(3), int64(4), object(13)\n",
      "memory usage: 750.6+ KB\n",
      "None\n",
      "             budget             id   popularity       revenue      runtime  \\\n",
      "count  4.803000e+03    4803.000000  4803.000000  4.803000e+03  4801.000000   \n",
      "mean   2.904504e+07   57165.484281    21.492301  8.226064e+07   106.875859   \n",
      "std    4.072239e+07   88694.614033    31.816650  1.628571e+08    22.611935   \n",
      "min    0.000000e+00       5.000000     0.000000  0.000000e+00     0.000000   \n",
      "25%    7.900000e+05    9014.500000     4.668070  0.000000e+00    94.000000   \n",
      "50%    1.500000e+07   14629.000000    12.921594  1.917000e+07   103.000000   \n",
      "75%    4.000000e+07   58610.500000    28.313505  9.291719e+07   118.000000   \n",
      "max    3.800000e+08  459488.000000   875.581305  2.787965e+09   338.000000   \n",
      "\n",
      "       vote_average    vote_count  \n",
      "count   4803.000000   4803.000000  \n",
      "mean       6.092172    690.217989  \n",
      "std        1.194612   1234.585891  \n",
      "min        0.000000      0.000000  \n",
      "25%        5.600000     54.000000  \n",
      "50%        6.200000    235.000000  \n",
      "75%        6.800000    737.000000  \n",
      "max       10.000000  13752.000000  \n"
     ]
    }
   ],
   "source": [
    "#1. aperçu des données\n",
    "print(f\"Nombre de films : {len(df)}\")\n",
    "print(df.info())\n",
    "print(df.describe())"
   ]
  },
  {
   "cell_type": "code",
   "execution_count": 18,
   "id": "92ce9177",
   "metadata": {},
   "outputs": [
    {
     "name": "stdout",
     "output_type": "stream",
     "text": [
      "             budget   popularity       revenue      runtime  vote_average  \\\n",
      "count  4.803000e+03  4803.000000  4.803000e+03  4801.000000   4803.000000   \n",
      "mean   2.904504e+07    21.492301  8.226064e+07   106.875859      6.092172   \n",
      "std    4.072239e+07    31.816650  1.628571e+08    22.611935      1.194612   \n",
      "min    0.000000e+00     0.000000  0.000000e+00     0.000000      0.000000   \n",
      "25%    7.900000e+05     4.668070  0.000000e+00    94.000000      5.600000   \n",
      "50%    1.500000e+07    12.921594  1.917000e+07   103.000000      6.200000   \n",
      "75%    4.000000e+07    28.313505  9.291719e+07   118.000000      6.800000   \n",
      "max    3.800000e+08   875.581305  2.787965e+09   338.000000     10.000000   \n",
      "\n",
      "         vote_count  \n",
      "count   4803.000000  \n",
      "mean     690.217989  \n",
      "std     1234.585891  \n",
      "min        0.000000  \n",
      "25%       54.000000  \n",
      "50%      235.000000  \n",
      "75%      737.000000  \n",
      "max    13752.000000  \n"
     ]
    }
   ],
   "source": [
    "#2. Statistiques descriptives des variables numériques\n",
    "print(df[['budget', 'popularity', 'revenue', 'runtime', 'vote_average', 'vote_count']].describe())\n"
   ]
  },
  {
   "cell_type": "code",
   "execution_count": 19,
   "id": "5cc612f3",
   "metadata": {},
   "outputs": [
    {
     "data": {
      "image/png": "[encoded data removed]",
      "text/plain": [
       "<Figure size 1000x500 with 1 Axes>"
      ]
     },
     "metadata": {},
     "output_type": "display_data"
    }
   ],
   "source": [
    "#3. Visualisation des distributions\n",
    "#3.1 Distribution du budget\n",
    "plt.figure(figsize=(10,5))\n",
    "sns.histplot(df['budget'].replace(0, pd.NA).dropna(), bins=50, kde=True)\n",
    "plt.title(\"Distribution des budgets (excluant les 0)\")\n",
    "plt.xlabel(\"Budget\")\n",
    "plt.ylabel(\"Nombre de films\")\n",
    "plt.show()\n"
   ]
  },
  {
   "cell_type": "code",
   "execution_count": 20,
   "id": "3e541692",
   "metadata": {},
   "outputs": [
    {
     "data": {
      "image/png": "[encoded data removed]",
      "text/plain": [
       "<Figure size 800x400 with 1 Axes>"
      ]
     },
     "metadata": {},
     "output_type": "display_data"
    }
   ],
   "source": [
    "#3.2 Distribution des notes moyennes\n",
    "plt.figure(figsize=(8,4))\n",
    "sns.histplot(df['vote_average'], bins=20, kde=True)\n",
    "plt.title(\"Distribution des notes moyennes\")\n",
    "plt.xlabel(\"Note moyenne\")\n",
    "plt.ylabel(\"Nombre de films\")\n",
    "plt.show()\n"
   ]
  },
  {
   "cell_type": "code",
   "execution_count": 21,
   "id": "585846ac",
   "metadata": {},
   "outputs": [
    {
     "data": {
      "image/png": "[encoded data removed]",
      "text/plain": [
       "<Figure size 1200x600 with 1 Axes>"
      ]
     },
     "metadata": {},
     "output_type": "display_data"
    }
   ],
   "source": [
    "#3. Extraction et analyse des genres\n",
    "# Parsing des genres JSON\n",
    "df['genres_list'] = df['genres'].apply(lambda x: [d['name'] for d in ast.literal_eval(x)] if pd.notnull(x) else [])\n",
    "\n",
    "# Comptage total des genres\n",
    "from collections import Counter\n",
    "all_genres = [genre for sublist in df['genres_list'] for genre in sublist]\n",
    "genre_counts = Counter(all_genres)\n",
    "\n",
    "# Affichage des genres les plus fréquents\n",
    "plt.figure(figsize=(12,6))\n",
    "sns.barplot(x=list(genre_counts.keys()), y=list(genre_counts.values()))\n",
    "plt.xticks(rotation=45)\n",
    "plt.title(\"Répartition des genres de films\")\n",
    "plt.xlabel(\"Genres\")\n",
    "plt.ylabel(\"Nombre de films\")\n",
    "plt.show()\n"
   ]
  },
  {
   "cell_type": "code",
   "execution_count": 22,
   "id": "141d482f",
   "metadata": {},
   "outputs": [
    {
     "data": {
      "image/png": "[encoded data removed]",
      "text/plain": [
       "<Figure size 1200x600 with 1 Axes>"
      ]
     },
     "metadata": {},
     "output_type": "display_data"
    }
   ],
   "source": [
    "#5. Analyse des sorties par année\n",
    "df['release_date'] = pd.to_datetime(df['release_date'], errors='coerce')\n",
    "df['release_year'] = df['release_date'].dt.year\n",
    "\n",
    "movies_per_year = df.groupby('release_year').size()\n",
    "plt.figure(figsize=(12,6))\n",
    "movies_per_year.plot()\n",
    "plt.title('Nombre de films sortis par année')\n",
    "plt.xlabel('Année')\n",
    "plt.ylabel('Nombre de films')\n",
    "plt.show()\n"
   ]
  },
  {
   "cell_type": "markdown",
   "id": "25801013",
   "metadata": {},
   "source": [
    "Nettoyage des données (valeurs manquantes, doublons)"
   ]
  },
  {
   "cell_type": "markdown",
   "id": "c81f52b1",
   "metadata": {},
   "source": [
    "2. Gestion des valeurs manquantes"
   ]
  },
  {
   "cell_type": "markdown",
   "id": "95d225a9",
   "metadata": {},
   "source": [
    "a. Variables numériques (budget, revenue, runtime)"
   ]
  },
  {
   "cell_type": "code",
   "execution_count": 23,
   "id": "139cb155",
   "metadata": {},
   "outputs": [],
   "source": [
    "from sklearn.impute import SimpleImputer\n",
    "\n",
    "# Remplacement des valeurs 0 par NaN pour les colonnes numériques\n",
    "\n",
    "df['budget'] = df['budget'].replace(0, np.nan)\n",
    "df['revenue'] = df['revenue'].replace(0, np.nan)\n",
    "df['runtime'] = df['runtime'].replace(0, np.nan)\n",
    "\n",
    "imputer = SimpleImputer(strategy='median')\n",
    "\n",
    "# Imputation des valeurs manquantes\n",
    "df[['budget', 'revenue', 'runtime']] = imputer.fit_transform(df[['budget', 'revenue', 'runtime']])"
   ]
  },
  {
   "cell_type": "markdown",
   "id": "0a3d71ea",
   "metadata": {},
   "source": [
    "b. Variables textuelles (overview, genres)"
   ]
  },
  {
   "cell_type": "code",
   "execution_count": 24,
   "id": "ac5faa21",
   "metadata": {},
   "outputs": [
    {
     "name": "stdout",
     "output_type": "stream",
     "text": [
      "Lignes sans synopsis supprimées : 3\n"
     ]
    }
   ],
   "source": [
    "avant = len(df)\n",
    "df = df.dropna(subset=['overview'])\n",
    "apres = len(df)\n",
    "print(f\"Lignes sans synopsis supprimées : {avant - apres}\")\n"
   ]
  },
  {
   "cell_type": "markdown",
   "id": "f56f9078",
   "metadata": {},
   "source": [
    "3. Vérification finale du nettoyage"
   ]
  },
  {
   "cell_type": "code",
   "execution_count": 25,
   "id": "991a3ea2",
   "metadata": {},
   "outputs": [
    {
     "name": "stdout",
     "output_type": "stream",
     "text": [
      "Valeurs manquantes après nettoyage :\n",
      "budget                     0\n",
      "genres                     0\n",
      "homepage                3088\n",
      "id                         0\n",
      "keywords                   0\n",
      "original_language          0\n",
      "original_title             0\n",
      "overview                   0\n",
      "popularity                 0\n",
      "production_companies       0\n",
      "production_countries       0\n",
      "release_date               1\n",
      "revenue                    0\n",
      "runtime                    0\n",
      "spoken_languages           0\n",
      "status                     0\n",
      "tagline                  841\n",
      "title                      0\n",
      "vote_average               0\n",
      "vote_count                 0\n",
      "genres_list                0\n",
      "release_year               1\n",
      "dtype: int64\n"
     ]
    }
   ],
   "source": [
    "print(\"Valeurs manquantes après nettoyage :\")\n",
    "print(df.isnull().sum())\n"
   ]
  },
  {
   "cell_type": "code",
   "execution_count": 26,
   "id": "90bb7547",
   "metadata": {},
   "outputs": [
    {
     "data": {
      "image/png": "[encoded data removed]",
      "text/plain": [
       "<Figure size 800x200 with 1 Axes>"
      ]
     },
     "metadata": {},
     "output_type": "display_data"
    }
   ],
   "source": [
    "import matplotlib.pyplot as plt\n",
    "import seaborn as sns\n",
    "\n",
    "missing = df.isnull().sum()\n",
    "missing = missing[missing > 0].sort_values(ascending=False)\n",
    "plt.figure(figsize=(8,2))\n",
    "sns.barplot(x=missing.index, y=missing.values)\n",
    "plt.title('Valeurs manquantes par colonne')\n",
    "plt.xticks(rotation=45)\n",
    "plt.ylabel('Nombre de valeurs manquantes')\n",
    "plt.show()\n"
   ]
  },
  {
   "cell_type": "markdown",
   "id": "675cee28",
   "metadata": {},
   "source": [
    "Prétraitement textuel des synopsis (nettoyage, tokenization, suppression stop words)\n"
   ]
  },
  {
   "cell_type": "markdown",
   "id": "d6fc350d",
   "metadata": {},
   "source": [
    " Importation des librairies necessaires"
   ]
  },
  {
   "cell_type": "code",
   "execution_count": 27,
   "id": "d7613abf",
   "metadata": {},
   "outputs": [
    {
     "name": "stderr",
     "output_type": "stream",
     "text": [
      "c:\\Users\\USER\\AppData\\Local\\Programs\\Python\\Python313\\Lib\\site-packages\\stopwordsiso\\_core.py:4: UserWarning: pkg_resources is deprecated as an API. See https://setuptools.pypa.io/en/latest/pkg_resources.html. The pkg_resources package is slated for removal as early as 2025-11-30. Refrain from using this package or pin to Setuptools<81.\n",
      "  import pkg_resources\n"
     ]
    }
   ],
   "source": [
    "import re\n",
    "import nltk\n",
    "from nltk.tokenize import word_tokenize\n",
    "import stopwordsiso as stopwords\n",
    "import sys"
   ]
  },
  {
   "cell_type": "markdown",
   "id": "3dc97e98",
   "metadata": {},
   "source": [
    "1. Nettoyage du texte"
   ]
  },
  {
   "cell_type": "code",
   "execution_count": 28,
   "id": "c464afcc",
   "metadata": {},
   "outputs": [],
   "source": [
    "def nettoyage_texte(texte):\n",
    "    \n",
    "    if not isinstance(texte, str) or pd.isna(texte):\n",
    "        return ''\n",
    "    texte = texte.lower()\n",
    "    texte = re.sub(r'[^a-zàâçéèêëîïôûùüÿñæœ\\s]', '', texte)\n",
    "    return texte"
   ]
  },
  {
   "cell_type": "markdown",
   "id": "18250afa",
   "metadata": {},
   "source": [
    "2. La tokenization"
   ]
  },
  {
   "cell_type": "code",
   "execution_count": 29,
   "id": "85767e22",
   "metadata": {},
   "outputs": [],
   "source": [
    "def tokenization_texte(texte):\n",
    "    \n",
    "    return word_tokenize(texte)"
   ]
  },
  {
   "cell_type": "markdown",
   "id": "a2168bb5",
   "metadata": {},
   "source": [
    "3. Suppression stop words"
   ]
  },
  {
   "cell_type": "code",
   "execution_count": 30,
   "id": "bbc1dd7d",
   "metadata": {},
   "outputs": [],
   "source": [
    "def suppression_stopwords(tokens, langue):\n",
    "   \n",
    "    if langue and stopwords.has_lang(langue):\n",
    "        stop_words = stopwords.stopwords(langue)\n",
    "    else:\n",
    "        stop_words = set()\n",
    "    return [mot for mot in tokens if mot not in stop_words]"
   ]
  },
  {
   "cell_type": "markdown",
   "id": "19ad72c5",
   "metadata": {},
   "source": [
    "4. Pretraitement"
   ]
  },
  {
   "cell_type": "code",
   "execution_count": 31,
   "id": "69031228",
   "metadata": {},
   "outputs": [],
   "source": [
    "def pretraitement_complet(texte, langue):\n",
    "    \n",
    "    if not isinstance(texte, str) or not texte.strip():\n",
    "        return ''\n",
    "    texte_nettoye = nettoyage_texte(texte)\n",
    "    tokens = tokenization_texte(texte_nettoye)\n",
    "    tokens_filtrés = suppression_stopwords(tokens, langue)\n",
    "    return ' '.join(tokens_filtrés)"
   ]
  },
  {
   "cell_type": "markdown",
   "id": "d3bf10ca",
   "metadata": {},
   "source": [
    "Fonction de détection de langue"
   ]
  },
  {
   "cell_type": "code",
   "execution_count": 32,
   "id": "29cf7c79",
   "metadata": {},
   "outputs": [],
   "source": [
    "from langdetect import detect\n",
    "from langdetect.lang_detect_exception import LangDetectException\n",
    "\n",
    "\n",
    "def detecter_langue_texte(texte):\n",
    "    try:\n",
    "        return detect(texte)\n",
    "    except LangDetectException:\n",
    "        return None\n"
   ]
  },
  {
   "cell_type": "code",
   "execution_count": 74,
   "id": "53a6a97a",
   "metadata": {},
   "outputs": [],
   "source": [
    "from deep_translator import GoogleTranslator\n",
    "from tqdm import tqdm"
   ]
  },
  {
   "cell_type": "code",
   "execution_count": 75,
   "id": "4ec70a5a",
   "metadata": {},
   "outputs": [
    {
     "name": "stderr",
     "output_type": "stream",
     "text": [
      " 33%|███▎      | 1607/4800 [51:57<187:47:20, 211.73s/it]"
     ]
    },
    {
     "name": "stdout",
     "output_type": "stream",
     "text": [
      "Erreur de traduction pour : Five college friends spend the... : HTTPSConnectionPool(host='translate.google.com', port=443): Max retries exceeded with url: /m?tl=fr&sl=auto&q=Five+college+friends+spend+the+weekend+at+a+remote+cabin+in+the+woods%2C+where+they+get+more+than+they+bargained+for.+Together%2C+they+must+discover+the+truth+behind+the+cabin+in+the+woods. (Caused by SSLError(SSLEOFError(8, '[SSL: UNEXPECTED_EOF_WHILE_READING] EOF occurred in violation of protocol (_ssl.c:1028)')))\n"
     ]
    },
    {
     "name": "stderr",
     "output_type": "stream",
     "text": [
      " 40%|████      | 1944/4800 [1:04:39<59:01:29, 74.40s/it]"
     ]
    },
    {
     "name": "stdout",
     "output_type": "stream",
     "text": [
      "Erreur de traduction pour : An original story featuring pe... : HTTPSConnectionPool(host='translate.google.com', port=443): Max retries exceeded with url: /m?tl=fr&sl=auto&q=An+original+story+featuring+performances+by+Cirque+du+Soleil.+A+young+woman+is+entranced+by+an+Aerialist.+When+they+fall+into+the+dreamlike+world+of+Cirque+du+Soleil+and+are+separated%2C+they+travel+through+the+different+tent+worlds+trying+to+find+each+other. (Caused by SSLError(SSLEOFError(8, '[SSL: UNEXPECTED_EOF_WHILE_READING] EOF occurred in violation of protocol (_ssl.c:1028)')))\n"
     ]
    },
    {
     "name": "stderr",
     "output_type": "stream",
     "text": [
      " 47%|████▋     | 2237/4800 [1:14:31<12:51:28, 18.06s/it]"
     ]
    },
    {
     "name": "stdout",
     "output_type": "stream",
     "text": [
      "Erreur de traduction pour : An undercover cop in a not-too... : ('Connection aborted.', ConnectionAbortedError(10053, 'Une connexion établie a été abandonnée par un logiciel de votre ordinateur hôte', None, 10053, None))\n"
     ]
    },
    {
     "name": "stderr",
     "output_type": "stream",
     "text": [
      " 78%|███████▊  | 3766/4800 [2:06:11<3:18:31, 11.52s/it] "
     ]
    },
    {
     "name": "stdout",
     "output_type": "stream",
     "text": [
      "Erreur de traduction pour : As Nell Sweetzer tries to buil... : (\"Connection broken: ConnectionResetError(10054, 'Une connexion existante a dû être fermée par l’hôte distant', None, 10054, None)\", ConnectionResetError(10054, 'Une connexion existante a dû être fermée par l’hôte distant', None, 10054, None))\n",
      "Erreur de traduction pour : The film tells a story of a di... : HTTPSConnectionPool(host='translate.google.com', port=443): Max retries exceeded with url: /m?tl=fr&sl=auto&q=The+film+tells+a+story+of+a+divorced+couple+trying+to+raise+their+young+son.+The+story+follows+the+boy+for+twelve+years%2C+from+first+grade+at+age+6+through+12th+grade+at+age+17-18%2C+and+examines+his+relationship+with+his+parents+as+he+grows. (Caused by NameResolutionError(\"<urllib3.connection.HTTPSConnection object at 0x000002AA3534F9D0>: Failed to resolve 'translate.google.com' ([Errno 11001] getaddrinfo failed)\"))\n",
      "Erreur de traduction pour : An American journalism student... : HTTPSConnectionPool(host='translate.google.com', port=443): Max retries exceeded with url: /m?tl=fr&sl=auto&q=An+American+journalism+student+in+London+scoops+a+big+story%2C+and+begins+an+affair+with+an+aristocrat+as+the+incident+unfurls. (Caused by NameResolutionError(\"<urllib3.connection.HTTPSConnection object at 0x000002AA2F1AE5D0>: Failed to resolve 'translate.google.com' ([Errno 11001] getaddrinfo failed)\"))\n",
      "Erreur de traduction pour : With the rent due and his car ... : HTTPSConnectionPool(host='translate.google.com', port=443): Max retries exceeded with url: /m?tl=fr&sl=auto&q=With+the+rent+due+and+his+car+booted%2C+Sean+%28Dr.+Dre%29+has+to+come+up+with+some+ends...and+fast.+When+his+best+buddy+and+roommate+Dee+Loc+%28Snoop+Dogg%29%2C+suggests+that+Sean+get+a+job+busting+suds+down+at+the+local+car+wash. (Caused by NameResolutionError(\"<urllib3.connection.HTTPSConnection object at 0x000002AA2F1ACA50>: Failed to resolve 'translate.google.com' ([Errno 11001] getaddrinfo failed)\"))\n",
      "Erreur de traduction pour : Brian Hooks plays a character ... : HTTPSConnectionPool(host='translate.google.com', port=443): Max retries exceeded with url: /m?tl=fr&sl=auto&q=Brian+Hooks+plays+a+character+who+is+just+released+from+jail.+And+the+state+adopts+a+%223+strikes%22+rule+for+felons+that+involves+serious+penalties.+Hooks+has+2+strikes%2C+and+wants+to+change+his+life+for+the+better.+When+a+friend+picks+him+up%2C+they+are+pulled+over%2C+and+his+friend+shoots+at+police+officers%2C+and+Hooks+escapes.+Now+Hooks%2C+a+wanted+man%2C+must+clear+his+name+of+having+nothing+to+do+with+the+shooting. (Caused by NameResolutionError(\"<urllib3.connection.HTTPSConnection object at 0x000002AA2F047B10>: Failed to resolve 'translate.google.com' ([Errno 11001] getaddrinfo failed)\"))\n",
      "Erreur de traduction pour : (William H. Macy) works at a L... : HTTPSConnectionPool(host='translate.google.com', port=443): Max retries exceeded with url: /m?tl=fr&sl=auto&q=%28William+H.+Macy%29+works+at+a+Las+Vegas+casino%2C+where+he+uses+his+innate+ability+to+bring+about+misfortune+in+those+around+him+to+jinx+gamblers+into+losing.+His+imposing+boss%2C+Shelly+Kaplow+%28Alec+Baldwin%29%2C+is+happy+with+the+arrangement.+But+Bernie+finds+unexpected+happiness+when+he+begins+dating+attractive+waitress+Natalie+Belisario+%28Maria+Bello%29. (Caused by NameResolutionError(\"<urllib3.connection.HTTPSConnection object at 0x000002AA0DAD7610>: Failed to resolve 'translate.google.com' ([Errno 11001] getaddrinfo failed)\"))\n",
      "Erreur de traduction pour : While filing for a divorce, be... : HTTPSConnectionPool(host='translate.google.com', port=443): Max retries exceeded with url: /m?tl=fr&sl=auto&q=While+filing+for+a+divorce%2C+beautiful+ex-stripper+Roslyn+Taber+ends+up+meeting+aging+cowboy-turned-gambler+Gay+Langland+and+former+World+War+II+aviator+Guido+Racanelli.+The+two+men+instantly+become+infatuated+with+Roslyn+and%2C+on+a+whim%2C+the+three+decide+to+move+into+Guido%27s+half-finished+desert+home+together.+When+grizzled+ex-rodeo+rider+Perce+Howland+arrives%2C+the+unlikely+foursome+strike+up+a+business+capturing+wild+horses. (Caused by NameResolutionError(\"<urllib3.connection.HTTPSConnection object at 0x000002AA310B16D0>: Failed to resolve 'translate.google.com' ([Errno 11001] getaddrinfo failed)\"))\n",
      "Erreur de traduction pour : In the midst of his crumbling ... : HTTPSConnectionPool(host='translate.google.com', port=443): Max retries exceeded with url: /m?tl=fr&sl=auto&q=In+the+midst+of+his+crumbling+relationship%2C+a+radio+show+host+begins+speaking+to+his+biggest+fan%2C+a+young+boy%2C+via+the+telephone.+But+when+questions+about+the+boy%27s+identity+come+up%2C+the+host%27s+life+is+thrown+into+chaos. (Caused by NameResolutionError(\"<urllib3.connection.HTTPSConnection object at 0x000002AA310B1A90>: Failed to resolve 'translate.google.com' ([Errno 11001] getaddrinfo failed)\"))\n",
      "Erreur de traduction pour : When two unemployed telephone ... : HTTPSConnectionPool(host='translate.google.com', port=443): Max retries exceeded with url: /m?tl=fr&sl=auto&q=When+two+unemployed+telephone+pranksters+decide+to+use+their+vocal+%22talents%22+to+impersonate+a+Chicago+mob+boss+and+curry+favor+with+organized+crime+in+New+York%2C+the+trouble+begins.+It+isn%27t+long+before+Johnny+and+Kamal+%28the+%22Jerky+Boys%22+of+crank+call+fame%29+are+wanted+by+the+local+mafia%2C+the+police%2C+and+their+neighbor. (Caused by NameResolutionError(\"<urllib3.connection.HTTPSConnection object at 0x000002AA310B1090>: Failed to resolve 'translate.google.com' ([Errno 11001] getaddrinfo failed)\"))\n",
      "Erreur de traduction pour : A woman brings her family back... : HTTPSConnectionPool(host='translate.google.com', port=443): Max retries exceeded with url: /m?tl=fr&sl=auto&q=A+woman+brings+her+family+back+to+her+childhood+home%2C+which+used+to+be+an+orphanage%2C+intent+on+reopening+it.+Before+long%2C+her+son+starts+to+communicate+with+a+new+invisible+friend. (Caused by NameResolutionError(\"<urllib3.connection.HTTPSConnection object at 0x000002AA310B1450>: Failed to resolve 'translate.google.com' ([Errno 11001] getaddrinfo failed)\"))\n",
      "Erreur de traduction pour : Having exorcised the demons of... : HTTPSConnectionPool(host='translate.google.com', port=443): Max retries exceeded with url: /m?tl=fr&sl=auto&q=Having+exorcised+the+demons+of+his+ex%2C+Malcolm+is+starting+fresh+with+his+new+girlfriend+and+her+two+children.+After+moving+into+their+dream+home%2C+however%2C+Malcolm+is+once+again+plagued+by+bizarre+paranormal+events. (Caused by NameResolutionError(\"<urllib3.connection.HTTPSConnection object at 0x000002AA310B0550>: Failed to resolve 'translate.google.com' ([Errno 11001] getaddrinfo failed)\"))\n",
      "Erreur de traduction pour : The incredibly spoiled and ove... : HTTPSConnectionPool(host='translate.google.com', port=443): Max retries exceeded with url: /m?tl=fr&sl=auto&q=The+incredibly+spoiled+and+overprivileged+students+of+Camden+College+are+a+backdrop+for+an+unusual+love+triangle+between+a+drug+dealer%2C+a+virgin+and+a+bisexual+classmate. (Caused by NameResolutionError(\"<urllib3.connection.HTTPSConnection object at 0x000002AA310B02D0>: Failed to resolve 'translate.google.com' ([Errno 11001] getaddrinfo failed)\"))\n",
      "Erreur de traduction pour : A French intelligence agent be... : HTTPSConnectionPool(host='translate.google.com', port=443): Max retries exceeded with url: /m?tl=fr&sl=auto&q=A+French+intelligence+agent+becomes+embroiled+in+the+Cold+War+politics+first+with+uncovering+the+events+leading+up+to+the+1962+Cuban+Missle+Crisis%2C+and+then+back+to+France+to+break+up+an+international+Russian+spy+ring. (Caused by NameResolutionError(\"<urllib3.connection.HTTPSConnection object at 0x000002AA0DAD7610>: Failed to resolve 'translate.google.com' ([Errno 11001] getaddrinfo failed)\"))\n",
      "Erreur de traduction pour : When a career criminal's plan ... : HTTPSConnectionPool(host='translate.google.com', port=443): Max retries exceeded with url: /m?tl=fr&sl=auto&q=When+a+career+criminal%27s+plan+for+revenge+is+thwarted+by+unlikely+circumstances%2C+he+puts+his+intended+victim%27s+son+in+his+place+by+putting+him+in+prison...and+then+joining+him. (Caused by NameResolutionError(\"<urllib3.connection.HTTPSConnection object at 0x000002AA3534F9D0>: Failed to resolve 'translate.google.com' ([Errno 11001] getaddrinfo failed)\"))\n",
      "Erreur de traduction pour : It's Ted the Bellhop's first n... : HTTPSConnectionPool(host='translate.google.com', port=443): Max retries exceeded with url: /m?tl=fr&sl=auto&q=It%27s+Ted+the+Bellhop%27s+first+night+on+the+job...and+the+hotel%27s+very+unusual+guests+are+about+to+place+him+in+some+outrageous+predicaments.+It+seems+that+this+evening%27s+room+service+is+serving+up+one+unbelievable+happening+after+another. (Caused by NameResolutionError(\"<urllib3.connection.HTTPSConnection object at 0x000002AA2F0474D0>: Failed to resolve 'translate.google.com' ([Errno 11001] getaddrinfo failed)\"))\n",
      "Erreur de traduction pour : A young woman, recently releas... : HTTPSConnectionPool(host='translate.google.com', port=443): Max retries exceeded with url: /m?tl=fr&sl=auto&q=A+young+woman%2C+recently+released+from+a+mental+hospital%2C+gets+a+job+as+a+secretary+to+a+demanding+lawyer%2C+where+their+employer-employee+relationship+turns+into+a+sexual%2C+sadomasochistic+one. (Caused by NameResolutionError(\"<urllib3.connection.HTTPSConnection object at 0x000002AA2F047D90>: Failed to resolve 'translate.google.com' ([Errno 11001] getaddrinfo failed)\"))\n",
      "Erreur de traduction pour : Sixteen American college stude... : HTTPSConnectionPool(host='translate.google.com', port=443): Max retries exceeded with url: /m?tl=fr&sl=auto&q=Sixteen+American+college+students+drink%2C+flirt%2C+fight+and+canoodle+during+their+Spring+Break+vacation+in+Cancun%2C+Mexico. (Caused by NameResolutionError(\"<urllib3.connection.HTTPSConnection object at 0x000002AA2F047750>: Failed to resolve 'translate.google.com' ([Errno 11001] getaddrinfo failed)\"))\n",
      "Erreur de traduction pour : A rude, contemptuous talk show... : HTTPSConnectionPool(host='translate.google.com', port=443): Max retries exceeded with url: /m?tl=fr&sl=auto&q=A+rude%2C+contemptuous+talk+show+host+becomes+overwhelmed+by+the+hatred+that+surrounds+his+program+just+before+it+goes+national. (Caused by NameResolutionError(\"<urllib3.connection.HTTPSConnection object at 0x000002AA2F1AD1D0>: Failed to resolve 'translate.google.com' ([Errno 11001] getaddrinfo failed)\"))\n",
      "Erreur de traduction pour : Corky St. Clair is a director,... : HTTPSConnectionPool(host='translate.google.com', port=443): Max retries exceeded with url: /m?tl=fr&sl=auto&q=Corky+St.+Clair+is+a+director%2C+actor+and+dancer+in+Blaine%2C+Missouri.+When+it+comes+time+to+celebrate+Blaine%27s+150th+anniversary%2C+Corky+resolves+to+bring+down+the+house+in+Broadway+style+in+this+hilarious+mockumentary+from+the+people+who+brought+you+%22This+is+Spinal+Tap%21%22 (Caused by NameResolutionError(\"<urllib3.connection.HTTPSConnection object at 0x000002AA2F1ACF50>: Failed to resolve 'translate.google.com' ([Errno 11001] getaddrinfo failed)\"))\n"
     ]
    },
    {
     "name": "stderr",
     "output_type": "stream",
     "text": [
      " 81%|████████  | 3877/4800 [2:10:28<1:06:10,  4.30s/it]"
     ]
    },
    {
     "name": "stdout",
     "output_type": "stream",
     "text": [
      "Erreur de traduction pour : Cidade de Deus is a shantytown... : (\"Connection broken: ConnectionResetError(10054, 'Une connexion existante a dû être fermée par l’hôte distant', None, 10054, None)\", ConnectionResetError(10054, 'Une connexion existante a dû être fermée par l’hôte distant', None, 10054, None))\n",
      "Erreur de traduction pour : All that exists now is clubs, ... : HTTPSConnectionPool(host='translate.google.com', port=443): Max retries exceeded with url: /m?tl=fr&sl=auto&q=All+that+exists+now+is+clubs%2C+drugs%2C+pubs+and+parties.+I%27ve+got+48+hours+off+from+the+world%2C+man+I%27m+gonna+blow+steam+out+of+my+head+like+a+screaming+kettle.+I%27m+gonna+talk+cods+hit+to+strangers+all+night.+I%27m+gonna+lose+the+plot+on+the+dance+floor%2C+the+free+radicals+inside+me+are+freaking+man%21++Tonight+I%27m+Jip+Travolta%2C+I%27m+Peter+Popper%2C+I%27m+going+to+Never+Never+Land+with+my+chosen+family%2C+man.+We%27re+going+to+get+more+spaced+out+than+Neil+Armstrong+ever+did.++Anything+could+happen+tonight%2C+you+know%3F+This+could+be+the+best+night+of+my+life%21+I%27ve+got+73+quid+in+my+back+burner.+I%27m+gonna+wax+the+lot%2C+man.++The+milky+bars+are+on+me%21+Yeah%21 (Caused by NameResolutionError(\"<urllib3.connection.HTTPSConnection object at 0x000002AA2F1AC2D0>: Failed to resolve 'translate.google.com' ([Errno 11001] getaddrinfo failed)\"))\n",
      "Erreur de traduction pour : The story follows 19-year-old ... : HTTPSConnectionPool(host='translate.google.com', port=443): Max retries exceeded with url: /m?tl=fr&sl=auto&q=The+story+follows+19-year-old+Renee+who+has+always+loved+fairy+tales%3A+the+idea+of+a+princess%2C+a+hero+and+a+happily+ever+after.+But+Renee%E2%80%99s+life+is+that+of+a+darker+tale%3A+she%E2%80%99s+a+young+woman+battling+addiction%2C+depression+and+self-injury.+In+a+creative+blend+of+artistic+fantasy+balanced+with+harsh+reality%2C+the+movie+follows+Renee+on+her+courageous+journey+towards+recovery. (Caused by NameResolutionError(\"<urllib3.connection.HTTPSConnection object at 0x000002AA3534DF90>: Failed to resolve 'translate.google.com' ([Errno 11001] getaddrinfo failed)\"))\n",
      "Erreur de traduction pour : The clues to a young woman's d... : HTTPSConnectionPool(host='translate.google.com', port=443): Max retries exceeded with url: /m?tl=fr&sl=auto&q=The+clues+to+a+young+woman%27s+death+come+together+as+the+lives+of+seemingly+unrelated+people+begin+to+intersect. (Caused by NameResolutionError(\"<urllib3.connection.HTTPSConnection object at 0x000002AA2F047750>: Failed to resolve 'translate.google.com' ([Errno 11001] getaddrinfo failed)\"))\n",
      "Erreur de traduction pour : A teacher lives a lonely life,... : HTTPSConnectionPool(host='translate.google.com', port=443): Max retries exceeded with url: /m?tl=fr&sl=auto&q=A+teacher+lives+a+lonely+life%2C+all+the+while+struggling+over+his+son%E2%80%99s+custody.+His+life+slowly+gets+better+as+he+finds+love+and+receives+good+news+from+his+son%2C+but+his+new+luck+is+about+to+be+brutally+shattered+by+an+innocent+little+lie. (Caused by NameResolutionError(\"<urllib3.connection.HTTPSConnection object at 0x000002AA310B0B90>: Failed to resolve 'translate.google.com' ([Errno 11001] getaddrinfo failed)\"))\n",
      "Erreur de traduction pour : The comic mishaps and adventur... : HTTPSConnectionPool(host='translate.google.com', port=443): Max retries exceeded with url: /m?tl=fr&sl=auto&q=The+comic+mishaps+and+adventures+of+a+young+boy+named+Ralph%2C+trying+to+convince+his+parents%2C+teachers%2C+and+Santa+that+a+Red+Ryder+B.B.+gun+really+is+the+perfect+Christmas+gift+for+the+1940s. (Caused by NameResolutionError(\"<urllib3.connection.HTTPSConnection object at 0x000002AA310B0A50>: Failed to resolve 'translate.google.com' ([Errno 11001] getaddrinfo failed)\"))\n",
      "Erreur de traduction pour : An international soccer star i... : HTTPSConnectionPool(host='translate.google.com', port=443): Max retries exceeded with url: /m?tl=fr&sl=auto&q=An+international+soccer+star+is+on+his+way+to+sign+a+multimillion+dollar+contract+when+something+happens+that+brings+his+career+to+an+abrupt+end.+A+beautiful+waitress%2C+struggling+to+make+it+in+New+York+City%2C+discovers+something+about+herself+that+she%27s+unprepared+for.+In+one+irreversible+moment%2C+their+lives+are+turned+upside+down. (Caused by NameResolutionError(\"<urllib3.connection.HTTPSConnection object at 0x000002AA310B0E10>: Failed to resolve 'translate.google.com' ([Errno 11001] getaddrinfo failed)\"))\n",
      "Erreur de traduction pour : Andy is a new teacher at a inn... : HTTPSConnectionPool(host='translate.google.com', port=443): Max retries exceeded with url: /m?tl=fr&sl=auto&q=Andy+is+a+new+teacher+at+a+inner+city+high+school+that+is+like+nothing+he+has+ever+seen+before.+There+is+metal+detectors+at+the+front+door+and+everything+is+basically+run+by+a+tough+kid+named+Peter+Stegman.+Soon%2C+Andy+and+Stegman+become+enemies+and+Stegman+will+stop+at+nothing+to+protect+his+turf+and+drug+dealing+business. (Caused by NameResolutionError(\"<urllib3.connection.HTTPSConnection object at 0x000002AA310B11D0>: Failed to resolve 'translate.google.com' ([Errno 11001] getaddrinfo failed)\"))\n",
      "Erreur de traduction pour : A Bet's A Bet tells the story ... : HTTPSConnectionPool(host='translate.google.com', port=443): Max retries exceeded with url: /m?tl=fr&sl=auto&q=A+Bet%27s+A+Bet+tells+the+story+of+Vince%2C+New+England%27s+most+successful+divorce+attorney.+To+Vince%2C+life+is+one+big+competition%2C+and+losing+is+unacceptable.+This+also+applies+in+his+dating+life+with+his+love+%27em+and+leave+%27em+approach.+Then+Vince+meets+Jane%2C+who+is+beautiful%2C+successful+and+also+extremely+driven.+Together+they+enter+into+a+series+of+entertaining+wagers+with+each+other+where+the+winner+gets+to+decide+the+fate+of+the+loser.+After+all%2C+%22A+Bet%27s+a+Bet%21%22 (Caused by NameResolutionError(\"<urllib3.connection.HTTPSConnection object at 0x000002AA310B1590>: Failed to resolve 'translate.google.com' ([Errno 11001] getaddrinfo failed)\"))\n",
      "Erreur de traduction pour : Set in rural England in the 19... : HTTPSConnectionPool(host='translate.google.com', port=443): Max retries exceeded with url: /m?tl=fr&sl=auto&q=Set+in+rural+England+in+the+1950s+Eva+%28Samantha+Morton%29+fantasises+about+her+handsome%2C+worldly+cousin+Joseph+Lees+%28Rupert+Graves%29%2C+with+whom+she+fell+in+love+as+a+girl.+However%2C+stuck+in+a+closed+community+she+becomes+the+object+of+someone+else%27s+fantasy%2C+Harry+%28Lee+Ross%29.+When+Harry+learns+that+Eva+is+planning+to+leave+the+village+in+order+to+live+with+and+look+after+the+injured+Lees%2C+he+devises+a+gruesome+scheme+in+order+to+force+her+to+stay+and+look+after+him. (Caused by NameResolutionError(\"<urllib3.connection.HTTPSConnection object at 0x000002AA310B1810>: Failed to resolve 'translate.google.com' ([Errno 11001] getaddrinfo failed)\"))\n",
      "Erreur de traduction pour : Teacher and novelist François ... : HTTPSConnectionPool(host='translate.google.com', port=443): Max retries exceeded with url: /m?tl=fr&sl=auto&q=Teacher+and+novelist+Fran%C3%A7ois+B%C3%A9gaudeau+plays+a+version+of+himself+as+he+negotiates+a+year+with+his+racially+mixed+students+from+a+tough+Parisian+neighborhood. (Caused by NameResolutionError(\"<urllib3.connection.HTTPSConnection object at 0x000002AA310B0190>: Failed to resolve 'translate.google.com' ([Errno 11001] getaddrinfo failed)\"))\n"
     ]
    },
    {
     "name": "stderr",
     "output_type": "stream",
     "text": [
      " 92%|█████████▏| 4426/4800 [2:28:39<1:39:12, 15.91s/it]"
     ]
    },
    {
     "name": "stdout",
     "output_type": "stream",
     "text": [
      "Erreur de traduction pour : Zombie Hunter is set in a post... : ('Connection aborted.', ConnectionResetError(10054, 'Une connexion existante a dû être fermée par l’hôte distant', None, 10054, None))\n",
      "Erreur de traduction pour : A Fine Step is an uplifting fa... : HTTPSConnectionPool(host='translate.google.com', port=443): Max retries exceeded with url: /m?tl=fr&sl=auto&q=A+Fine+Step+is+an+uplifting+family+drama+centering+on+Cal+Masterson+%28Luke+Perry%2C+Beverly+Hills+90210%29+an+award+winning+horseman+whose+relationship+with+his+beloved+horse+Fandango+allows+him+to+achieve+multiple+championship+wins.+However+tragedy+strikes+when+Cal+and+Fandango+are+involved+in+a+serious+accident%2C+ending+Cal%27s+horse+riding+days+forever.+Cal%27s+devastation+is+slowly+overcome+when+his+new+neighbour%2C+14+year+old+Claire+Mason+%28Anna+Claire+Sneed%2C+Glee%29+takes+an+interest+in+Fandango+and+convinces+him+that+Fandango%27s+competing+days+might+not+be+over. (Caused by NameResolutionError(\"<urllib3.connection.HTTPSConnection object at 0x000002AA310B07D0>: Failed to resolve 'translate.google.com' ([Errno 11001] getaddrinfo failed)\"))\n"
     ]
    },
    {
     "name": "stderr",
     "output_type": "stream",
     "text": [
      "100%|██████████| 4800/4800 [2:40:07<00:00,  2.00s/it]  \n"
     ]
    }
   ],
   "source": [
    "# Fonction de traduction avec gestion d’erreur et barre de progression\n",
    "def traduire_texte(texte):\n",
    "    try:\n",
    "        if pd.isna(texte) or texte.strip() == '':\n",
    "            return ''\n",
    "        return GoogleTranslator(source='auto', target='fr').translate(texte)\n",
    "    except Exception as e:\n",
    "        print(f\"Erreur de traduction pour : {texte[:30]}... : {e}\")\n",
    "        return ''\n",
    "tqdm.pandas()\n",
    "df['overview_fr'] = df['overview'].progress_apply(traduire_texte)"
   ]
  },
  {
   "cell_type": "markdown",
   "id": "9e029032",
   "metadata": {},
   "source": [
    "Détection de la langue du synopsis"
   ]
  },
  {
   "cell_type": "code",
   "execution_count": 76,
   "id": "487227fb",
   "metadata": {},
   "outputs": [],
   "source": [
    "df['langue_detectee'] = df['overview_fr'].apply(detecter_langue_texte)"
   ]
  },
  {
   "cell_type": "markdown",
   "id": "27ab0e9b",
   "metadata": {},
   "source": [
    "Identification des lignes où la langue détectée diffère de original_language"
   ]
  },
  {
   "cell_type": "code",
   "execution_count": 77,
   "id": "845e85f5",
   "metadata": {},
   "outputs": [],
   "source": [
    "df['langue_differe'] = df.apply(\n",
    "    lambda row: row['langue_detectee'] != row['original_language'] if pd.notnull(row['langue_detectee']) else False,\n",
    "    axis=1\n",
    ")"
   ]
  },
  {
   "cell_type": "markdown",
   "id": "1ffdbf03",
   "metadata": {},
   "source": [
    "Affichage de conflit de langue"
   ]
  },
  {
   "cell_type": "code",
   "execution_count": 78,
   "id": "56c6b89e",
   "metadata": {},
   "outputs": [
    {
     "name": "stdout",
     "output_type": "stream",
     "text": [
      "Différences entre original_language et langue détectée dans le synopsis :\n",
      "     original_language langue_detectee  \\\n",
      "0                   en              fr   \n",
      "1                   en              fr   \n",
      "2                   en              fr   \n",
      "3                   en              fr   \n",
      "4                   en              fr   \n",
      "...                ...             ...   \n",
      "4798                es              fr   \n",
      "4799                en              fr   \n",
      "4800                en              fr   \n",
      "4801                en              fr   \n",
      "4802                en              fr   \n",
      "\n",
      "                                            overview_fr  \n",
      "0     Au 22e siècle, une marine paraplégique est env...  \n",
      "1     Le capitaine Barbossa, qui serait mort, est re...  \n",
      "2     Un message cryptique du passé de Bond lui envo...  \n",
      "3     Après la mort du procureur de district, Harvey...  \n",
      "4     John Carter est un ancien capitaine militaire ...  \n",
      "...                                                 ...  \n",
      "4798  El Mariachi veut juste jouer de sa guitare et ...  \n",
      "4799  La lune de miel d'un couple de jeunes mariés e...  \n",
      "4800  \"Signed, scellé, livré\" introduit un quatuor d...  \n",
      "4801  Lorsque l'ambitieux avocat de New York Sam est...  \n",
      "4802  Depuis la deuxième année, quand il l'a vue pou...  \n",
      "\n",
      "[4690 rows x 3 columns]\n"
     ]
    }
   ],
   "source": [
    "print(\"Différences entre original_language et langue détectée dans le synopsis :\")\n",
    "print(df[df['langue_differe']][['original_language', 'langue_detectee', 'overview_fr']])"
   ]
  },
  {
   "cell_type": "markdown",
   "id": "b61a0f3d",
   "metadata": {},
   "source": [
    "ajout colonne langue effective pour le prétraitement :"
   ]
  },
  {
   "cell_type": "code",
   "execution_count": 79,
   "id": "47d2e1c3",
   "metadata": {},
   "outputs": [],
   "source": [
    "df['langue_effective'] = df.apply(\n",
    "    lambda row: row['langue_detectee'] if pd.notnull(row['langue_detectee']) else row['original_language'],\n",
    "    axis=1\n",
    ")"
   ]
  },
  {
   "cell_type": "markdown",
   "id": "bf9904fd",
   "metadata": {},
   "source": [
    "4. Application du prétraitement complet sur chaque synopsis"
   ]
  },
  {
   "cell_type": "code",
   "execution_count": 80,
   "id": "dcda24e1",
   "metadata": {},
   "outputs": [],
   "source": [
    "df['synopsis_nettoye'] = df.apply(\n",
    "    lambda row: pretraitement_complet(row['overview_fr'], row['langue_effective']),\n",
    "    axis=1\n",
    ")"
   ]
  },
  {
   "cell_type": "code",
   "execution_count": 81,
   "id": "e2eaa3c4",
   "metadata": {},
   "outputs": [
    {
     "name": "stdout",
     "output_type": "stream",
     "text": [
      "  original_language langue_detectee langue_effective  \\\n",
      "0                en              fr               fr   \n",
      "1                en              fr               fr   \n",
      "2                en              fr               fr   \n",
      "3                en              fr               fr   \n",
      "4                en              fr               fr   \n",
      "\n",
      "                                         overview_fr  \\\n",
      "0  Au 22e siècle, une marine paraplégique est env...   \n",
      "1  Le capitaine Barbossa, qui serait mort, est re...   \n",
      "2  Un message cryptique du passé de Bond lui envo...   \n",
      "3  Après la mort du procureur de district, Harvey...   \n",
      "4  John Carter est un ancien capitaine militaire ...   \n",
      "\n",
      "                                    synopsis_nettoye  \n",
      "0  siècle marine paraplégique envoyée pandore lun...  \n",
      "1  capitaine barbossa mort revenu vie dirige bord...  \n",
      "2  message cryptique bond envoie piste découvrir ...  \n",
      "3  mort procureur district harvey dent batman ass...  \n",
      "4  john carter ancien capitaine militaire guerre ...  \n"
     ]
    }
   ],
   "source": [
    "print(df[['original_language', 'langue_detectee', 'langue_effective', 'overview_fr', 'synopsis_nettoye']].head(5))"
   ]
  },
  {
   "cell_type": "code",
   "execution_count": 82,
   "id": "ecd11d4e",
   "metadata": {},
   "outputs": [
    {
     "name": "stdout",
     "output_type": "stream",
     "text": [
      "     original_language langue_detectee langue_effective  \\\n",
      "4000                en              fr               fr   \n",
      "4001                en              fr               fr   \n",
      "4002                en              fr               fr   \n",
      "4003                es              fr               fr   \n",
      "4004                zh              fr               fr   \n",
      "4005                en              fr               fr   \n",
      "4006                en              fr               fr   \n",
      "4007                en              fr               fr   \n",
      "\n",
      "                                            overview_fr  \\\n",
      "4000  Après que son amant l'ait rejeté, un jeune hom...   \n",
      "4001  Un slacker au chômage (Lange) inspire ses coéq...   \n",
      "4002  Riding Giants est une histoire de surfeurs de ...   \n",
      "4003  Un homme pénètre accidentellement dans une mac...   \n",
      "4004  Une histoire d'action-aventure s'est concentré...   \n",
      "4005  Un week-end de camping dans les montagnes devi...   \n",
      "4006  En 1927, Hollywood, Don Lockwood et Lina Lamon...   \n",
      "4007  100 livres en surpoids, chargés de stéroïdes e...   \n",
      "\n",
      "                                       synopsis_nettoye  \n",
      "4000  amant lait rejeté jeune homme piégé loppressio...  \n",
      "4001  slacker chômage lange inspire coéquipiers soft...  \n",
      "4002  riding giants histoire surfeurs grandes vagues...  \n",
      "4003  homme pénètre accidentellement machine remonte...  \n",
      "4004  histoire dactionaventure sest concentrée vie l...  \n",
      "4005  weekend camping montagnes devient excursion en...  \n",
      "4006  hollywood don lockwood lina lamont célèbre pai...  \n",
      "4007  livres surpoids chargés stéroïdes souffrant du...  \n"
     ]
    }
   ],
   "source": [
    "print(df.loc[4000:4007, ['original_language', 'langue_detectee', 'langue_effective', 'overview_fr', 'synopsis_nettoye']])"
   ]
  },
  {
   "cell_type": "markdown",
   "id": "075143d8",
   "metadata": {},
   "source": [
    "Sauvegarde de la colonne 'synopsis_nettoye' dans un fichier texte"
   ]
  },
  {
   "cell_type": "code",
   "execution_count": 83,
   "id": "3912ed75",
   "metadata": {},
   "outputs": [
    {
     "name": "stdout",
     "output_type": "stream",
     "text": [
      "Corpus sauvegardé dans ../donnees/corpus_synopsis.txt\n"
     ]
    }
   ],
   "source": [
    "chemin_fichier = \"../donnees/corpus_synopsis.txt\"\n",
    "\n",
    "with open(chemin_fichier, 'w', encoding='utf-8') as fichier:\n",
    "    for texte in df['synopsis_nettoye'].fillna(''):\n",
    "        fichier.write(texte + '\\n')\n",
    "        \n",
    "print(f\"Corpus sauvegardé dans {chemin_fichier}\")\n"
   ]
  },
  {
   "cell_type": "markdown",
   "id": "0162f553",
   "metadata": {},
   "source": [
    "Vectorisation textuelle (TF-IDF ou embeddings)\n"
   ]
  },
  {
   "cell_type": "markdown",
   "id": "211504de",
   "metadata": {},
   "source": [
    "Vectorisation TF-IDF"
   ]
  },
  {
   "cell_type": "code",
   "execution_count": 84,
   "id": "92a27fb8",
   "metadata": {},
   "outputs": [],
   "source": [
    "from sklearn.feature_extraction.text import TfidfVectorizer"
   ]
  },
  {
   "cell_type": "code",
   "execution_count": 85,
   "id": "e6c4c3c9",
   "metadata": {},
   "outputs": [],
   "source": [
    "def vectoriser_tf_idf(corpus, max_termes=5000):\n",
    "    vectoriseur = TfidfVectorizer(max_features=max_termes)\n",
    "    matrice_tfidf = vectoriseur.fit_transform(corpus)\n",
    "    print(f\"TF-IDF : matrice de forme {matrice_tfidf.shape}\")\n",
    "    return matrice_tfidf, vectoriseur"
   ]
  },
  {
   "cell_type": "code",
   "execution_count": 86,
   "id": "1c9e9a9a",
   "metadata": {},
   "outputs": [],
   "source": [
    "with open(\"../donnees/corpus_synopsis.txt\", 'r', encoding='utf-8') as f:\n",
    "    corpus = f.read().splitlines()"
   ]
  },
  {
   "cell_type": "code",
   "execution_count": 87,
   "id": "fd6b5134",
   "metadata": {},
   "outputs": [
    {
     "name": "stdout",
     "output_type": "stream",
     "text": [
      "TF-IDF : matrice de forme (4800, 5000)\n"
     ]
    }
   ],
   "source": [
    "matrice_tfidf, vectoriseur = vectoriser_tf_idf(corpus)"
   ]
  },
  {
   "cell_type": "code",
   "execution_count": 88,
   "id": "31e8b96e",
   "metadata": {},
   "outputs": [],
   "source": [
    "# Conversion en DataFrame pandas pour affichage\n",
    "df_tfidf = pd.DataFrame(matrice_tfidf.toarray(), columns=vectoriseur.get_feature_names_out())\n"
   ]
  },
  {
   "cell_type": "code",
   "execution_count": 89,
   "id": "916bf57d",
   "metadata": {},
   "outputs": [
    {
     "name": "stdout",
     "output_type": "stream",
     "text": [
      "   aaron  abandonne  abandonner  abandonné  abandonnée  abattu  abri  abrite  \\\n",
      "0    0.0        0.0         0.0        0.0         0.0     0.0   0.0     0.0   \n",
      "1    0.0        0.0         0.0        0.0         0.0     0.0   0.0     0.0   \n",
      "2    0.0        0.0         0.0        0.0         0.0     0.0   0.0     0.0   \n",
      "3    0.0        0.0         0.0        0.0         0.0     0.0   0.0     0.0   \n",
      "4    0.0        0.0         0.0        0.0         0.0     0.0   0.0     0.0   \n",
      "\n",
      "   absence  abusif  ...  éveillé  éventuelle  éviter  évolution  événement  \\\n",
      "0      0.0     0.0  ...      0.0         0.0     0.0        0.0        0.0   \n",
      "1      0.0     0.0  ...      0.0         0.0     0.0        0.0        0.0   \n",
      "2      0.0     0.0  ...      0.0         0.0     0.0        0.0        0.0   \n",
      "3      0.0     0.0  ...      0.0         0.0     0.0        0.0        0.0   \n",
      "4      0.0     0.0  ...      0.0         0.0     0.0        0.0        0.0   \n",
      "\n",
      "   événements  êtres  île  œil  œuvres  \n",
      "0         0.0    0.0  0.0  0.0     0.0  \n",
      "1         0.0    0.0  0.0  0.0     0.0  \n",
      "2         0.0    0.0  0.0  0.0     0.0  \n",
      "3         0.0    0.0  0.0  0.0     0.0  \n",
      "4         0.0    0.0  0.0  0.0     0.0  \n",
      "\n",
      "[5 rows x 5000 columns]\n"
     ]
    }
   ],
   "source": [
    "# Affichage des premières lignes\n",
    "print(df_tfidf.head())"
   ]
  },
  {
   "cell_type": "code",
   "execution_count": 93,
   "id": "33da33ad",
   "metadata": {},
   "outputs": [
    {
     "name": "stdout",
     "output_type": "stream",
     "text": [
      "civilisation      0.381456\n",
      "ordres            0.376767\n",
      "marine            0.357998\n",
      "envoyée           0.354917\n",
      "protection        0.349240\n",
      "extraterrestre    0.302062\n",
      "lune              0.285724\n",
      "siècle            0.277299\n",
      "mission           0.240303\n",
      "dune              0.170060\n",
      "Name: 0, dtype: float64\n"
     ]
    }
   ],
   "source": [
    "# Pour voir les termes les plus représentatifs dans un document spécifique,\n",
    "# par exemple le 0, trier les colonnes par ordre décroissant de poids TF-IDF\n",
    "print(df_tfidf.loc[0].sort_values(ascending=False).head(10))"
   ]
  }
 ],
 "metadata": {
  "kernelspec": {
   "display_name": "Python 3",
   "language": "python",
   "name": "python3"
  },
  "language_info": {
   "codemirror_mode": {
    "name": "ipython",
    "version": 3
   },
   "file_extension": ".py",
   "mimetype": "text/x-python",
   "name": "python",
   "nbconvert_exporter": "python",
   "pygments_lexer": "ipython3",
   "version": "3.13.2"
  }
 },
 "nbformat": 4,
 "nbformat_minor": 5
}
